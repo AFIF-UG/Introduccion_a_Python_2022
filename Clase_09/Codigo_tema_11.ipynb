{
  "nbformat": 4,
  "nbformat_minor": 0,
  "metadata": {
    "colab": {
      "name": "Codigo_tema_11.ipynb",
      "provenance": [],
      "collapsed_sections": []
    },
    "kernelspec": {
      "name": "python3",
      "display_name": "Python 3"
    }
  },
  "cells": [
    {
      "cell_type": "markdown",
      "metadata": {
        "id": "IAKQ_gfSzl4s"
      },
      "source": [
        "# Código tema 11\n",
        "###### Si tienes problema al dar clic en el botón de -Open In Colab-, te recomendamos dar clic derecho en este y luego seleccionar -Abrir en una pestaña nueva-"
      ]
    },
    {
      "cell_type": "markdown",
      "metadata": {
        "id": "xJyUlu5Az6WJ"
      },
      "source": [
        "[![Open In Colab](https://colab.research.google.com/assets/colab-badge.svg)](https://colab.research.google.com/drive/1TUvuAh2WC9WYYNw6r7ii8Nzal4LQmRfO?usp=sharing)"
      ]
    },
    {
      "cell_type": "code",
      "metadata": {
        "colab": {
          "base_uri": "https://localhost:8080/"
        },
        "id": "SjNZJbrN3TfH",
        "outputId": "aa0c5923-3096-4a17-bfba-d4768feceeb8"
      },
      "source": [
        "#Se importa libreria numpy con el \"apodo\" np\n",
        "import numpy as np\n",
        "a = [1,2,3]\n",
        "print(type(a))\n",
        "#print(3 * a)\n",
        "#print(a+a)\n",
        "a = np.array(a) # Esta funcion permite manejar a \"a\" como un vector\n",
        "print(type(a))\n",
        "print(3 * a)\n",
        "print(a+a)"
      ],
      "execution_count": null,
      "outputs": [
        {
          "output_type": "stream",
          "text": [
            "<class 'list'>\n",
            "<class 'numpy.ndarray'>\n",
            "[3 6 9]\n",
            "[2 4 6]\n"
          ],
          "name": "stdout"
        }
      ]
    },
    {
      "cell_type": "code",
      "metadata": {
        "colab": {
          "base_uri": "https://localhost:8080/"
        },
        "id": "f_Qf5urF5U-2",
        "outputId": "78451ae5-5dd3-4e45-93a7-356f55acb7f1"
      },
      "source": [
        "Diez = np.linspace(1,10,100)\n",
        "#print(Diez)\n",
        "Ceros = np.zeros(3)\n",
        "print(Ceros)"
      ],
      "execution_count": null,
      "outputs": [
        {
          "output_type": "stream",
          "text": [
            "[0. 0. 0.]\n"
          ],
          "name": "stdout"
        }
      ]
    },
    {
      "cell_type": "code",
      "metadata": {
        "colab": {
          "base_uri": "https://localhost:8080/"
        },
        "id": "Tsbp8SBO53-o",
        "outputId": "a4a480f2-5bdf-4d54-ebd3-03aa6762d8f5"
      },
      "source": [
        "b = np.array([-1,-60,12,3.5,2,3,3])\n",
        "Min = np.amin(b) # Obtengo el valor minimo del vector \"b\" \n",
        "print(Min)\n",
        "Max = np.amax(b) # Obtengo el valor minimo del vector \"b\"\n",
        "print(Max)\n",
        "Donde_3_5 = np.where(b == 3.5) # Nos indica en que posicion del vector \"b\"  se cumple que sea igual a 3.5 \n",
        "print(Donde_3_5)\n",
        "Donde_3 = np.where(b == 3)\n",
        "print(Donde_3)"
      ],
      "execution_count": null,
      "outputs": [
        {
          "output_type": "stream",
          "text": [
            "-60.0\n",
            "12.0\n",
            "(array([3]),)\n",
            "(array([5, 6]),)\n"
          ],
          "name": "stdout"
        }
      ]
    },
    {
      "cell_type": "code",
      "metadata": {
        "colab": {
          "base_uri": "https://localhost:8080/"
        },
        "id": "qeEUHsYJ7H8j",
        "outputId": "eb028f36-b122-43b7-e21e-c769c6ec362b"
      },
      "source": [
        "#1X^2 - 3x + 2 = 0\n",
        "Ecu_1 = np.array([1,-3,2]) \n",
        "Sol_1 = np.roots(Ecu_1)  # Esta funcion nos indica en que puntos una ecuacion toma el valor de 0, puede ser de grados mayores\n",
        "print(Sol_1)\n",
        "#4x^4 - 2x^2 + 3x - 2 = 0\n",
        "Ecu_2 = np.array([4,0,-2,3,-2])\n",
        "Sol_2 = np.roots(Ecu_2)\n",
        "print(Sol_2)"
      ],
      "execution_count": null,
      "outputs": [
        {
          "output_type": "stream",
          "text": [
            "[2. 1.]\n",
            "[-1.20921113+0.j          0.26185021+0.73117971j  0.26185021-0.73117971j\n",
            "  0.6855107 +0.j        ]\n"
          ],
          "name": "stdout"
        }
      ]
    },
    {
      "cell_type": "code",
      "metadata": {
        "colab": {
          "base_uri": "https://localhost:8080/"
        },
        "id": "42nwtnbL8Tcs",
        "outputId": "4268baf3-42df-42b4-fd63-e850b8ee3214"
      },
      "source": [
        "#5x - 3y - z = 1\n",
        "#x + 4y -6z = -1\n",
        "#2x + 3y + 4x = 9\n",
        "X = np.array([[5,-3,-1],[1,4,-6],[2,3,4]])\n",
        "Val = np.array([1,-1,9])\n",
        "print(X)\n",
        "print(\"------------\")\n",
        "print(Val)\n",
        "print(\"------------\")\n",
        "Sol_S = np.linalg.solve(X,Val) #Nos permite resolver un sistema de ecuaciones, puede ser mayor a 3\n",
        "print(Sol_S)"
      ],
      "execution_count": null,
      "outputs": [
        {
          "output_type": "stream",
          "text": [
            "[[ 5 -3 -1]\n",
            " [ 1  4 -6]\n",
            " [ 2  3  4]]\n",
            "------------\n",
            "[ 1 -1  9]\n",
            "------------\n",
            "[1. 1. 1.]\n"
          ],
          "name": "stdout"
        }
      ]
    },
    {
      "cell_type": "code",
      "metadata": {
        "colab": {
          "base_uri": "https://localhost:8080/"
        },
        "id": "EkESPuVz9ijr",
        "outputId": "41035a74-6dda-4c37-d391-913cecde709e"
      },
      "source": [
        "Y = np.array([[3,-2,-6],[7,8,-6],[2,1,4]])\n",
        "#print(Y)\n",
        "XY = np.matmul(X,Y) # Esta funcion multiplica dos matrices\n",
        "print(XY)"
      ],
      "execution_count": null,
      "outputs": [
        {
          "output_type": "stream",
          "text": [
            "[[ -8 -35 -16]\n",
            " [ 19  24 -54]\n",
            " [ 35  24 -14]]\n"
          ],
          "name": "stdout"
        }
      ]
    }
  ]
}