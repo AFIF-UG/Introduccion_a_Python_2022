{
  "nbformat": 4,
  "nbformat_minor": 0,
  "metadata": {
    "colab": {
      "name": "Codigo_Tema_6.ipynb",
      "provenance": [],
      "collapsed_sections": [],
      "toc_visible": true
    },
    "kernelspec": {
      "name": "python3",
      "display_name": "Python 3"
    }
  },
  "cells": [
    {
      "cell_type": "markdown",
      "metadata": {
        "id": "CoMK0P5FQKnI"
      },
      "source": [
        "# Código Tema 6\n",
        "###### Si tienes problema al dar clic en el botón de -Open In Colab-, te recomendamos dar clic derecho en este y luego seleccionar -Abrir en una pestaña nueva-"
      ]
    },
    {
      "cell_type": "markdown",
      "metadata": {
        "id": "54OUPeltQPvo"
      },
      "source": [
        "[![Open In Colab](https://colab.research.google.com/assets/colab-badge.svg)](https://colab.research.google.com/drive/14gHpkF9Glq5cWrHlAT6G-5Ar6ENvtzps?usp=sharing)"
      ]
    },
    {
      "cell_type": "code",
      "metadata": {
        "colab": {
          "base_uri": "https://localhost:8080/"
        },
        "id": "sZNgwLCPWCA_",
        "outputId": "0de3c618-b339-4075-f02c-d7c744953623"
      },
      "source": [
        "# Operadores de asignacion\n",
        "\n",
        "A = 5\n",
        "\n",
        "# Suma en asignacion\n",
        "\n",
        "A += 3 # Equivale a A = A + 3\n",
        "\n",
        "# Resta en asignacion\n",
        "\n",
        "A -= 2 # Equivale a A = A - 2\n",
        "\n",
        "# Multiplicacion en asignacion\n",
        "\n",
        "A *= 2 # Equivale a A = A * 2\n",
        "\n",
        "# Division en asignacion \n",
        "\n",
        "A /= 4 # Equivale a A = A / 4\n",
        "\n",
        "# Potencia en asignacion\n",
        "\n",
        "A **= 3 # Equivale a A = A ** 3\n",
        "\n",
        "print(A)"
      ],
      "execution_count": null,
      "outputs": [
        {
          "output_type": "stream",
          "text": [
            "27.0\n"
          ],
          "name": "stdout"
        }
      ]
    },
    {
      "cell_type": "code",
      "metadata": {
        "colab": {
          "base_uri": "https://localhost:8080/"
        },
        "id": "5-f-0OGgzvc_",
        "outputId": "df2a4c8e-c058-4d57-ec83-be5b6a67b706"
      },
      "source": [
        "# Operador modulo\n",
        "\n",
        "# Su operador es %\n",
        "# Es una division pero en vez de darte el cociente\n",
        "# te da el residuo\n",
        "\n",
        "B = 10 % 4\n",
        "print(B)\n",
        "\n",
        "# Modulo en asignacion\n",
        "\n",
        "A = 20\n",
        "\n",
        "A %= 4 # Equivale a A = A % 4\n",
        "\n",
        "print(A)"
      ],
      "execution_count": null,
      "outputs": [
        {
          "output_type": "stream",
          "text": [
            "2\n",
            "0\n"
          ],
          "name": "stdout"
        }
      ]
    },
    {
      "cell_type": "code",
      "metadata": {
        "colab": {
          "base_uri": "https://localhost:8080/"
        },
        "id": "EwGRgqvE0qfA",
        "outputId": "42941b66-1993-4828-e008-f4493101a48d"
      },
      "source": [
        "# Operadores de comparacion\n",
        "\n",
        "'''\n",
        "and, or, not, >, <, ==, >=, <=, !=\n",
        "\n",
        "1. ()\n",
        "2. **\n",
        "3. *, /, %, not\n",
        "4. +, -, and\n",
        "5. >, <, ==, >=, <=, !=, or\n",
        "\n",
        "\n",
        "and: si ambas expresiones tienen el valor True (cierto) da como resultado True\n",
        "or: con que mínimo una expresion tenga el valor True (cierto) da como resultado True\n",
        "not: cambia el valor de True (cierto) a False (falso) y viceversa \n",
        "'''\n",
        "\n",
        "A = 1\n",
        "B = 2\n",
        "C = 3\n",
        "\n",
        "D = not((A > C) or (C < B))\n",
        "print(D)\n",
        "\n",
        "# operador \"diferente\" !=\n",
        "\n",
        "E = A != 2 # Como A es diferente de dos el operador \"Diferente\" da como resultado el valor de True\n",
        "print(E)\n",
        "\n",
        "# Operador \"igualdad\" ==\n",
        "\n",
        "F = A == 1 # Como A es igual que uno el operador \"igualdad\" da como resultado el valor de True\n",
        "print(F)\n"
      ],
      "execution_count": null,
      "outputs": [
        {
          "output_type": "stream",
          "text": [
            "True\n",
            "True\n",
            "True\n"
          ],
          "name": "stdout"
        }
      ]
    }
  ]
}