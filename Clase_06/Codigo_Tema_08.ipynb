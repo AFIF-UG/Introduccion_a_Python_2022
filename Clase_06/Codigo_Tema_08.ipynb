{
  "nbformat": 4,
  "nbformat_minor": 0,
  "metadata": {
    "colab": {
      "name": "Codigo_Tema_08.ipynb",
      "provenance": [],
      "collapsed_sections": []
    },
    "kernelspec": {
      "name": "python3",
      "display_name": "Python 3"
    }
  },
  "cells": [
    {
      "cell_type": "markdown",
      "metadata": {
        "id": "ZY9dVpDaRHHx"
      },
      "source": [
        "# Código Tema 8\n",
        "###### Si tienes problema al dar clic en el botón de -Open In Colab-, te recomendamos dar clic derecho en este y luego seleccionar -Abrir en una pestaña nueva-"
      ]
    },
    {
      "cell_type": "markdown",
      "metadata": {
        "id": "Kl2VRBTjRPr-"
      },
      "source": [
        "[![Open In Colab](https://colab.research.google.com/assets/colab-badge.svg)](https://colab.research.google.com/drive/1eTkxAZ2cf0S57I0J8nd8x5llx1JDhzK0?usp=sharing)"
      ]
    },
    {
      "cell_type": "code",
      "metadata": {
        "colab": {
          "base_uri": "https://localhost:8080/"
        },
        "id": "bZbk28B5xQD7",
        "outputId": "59e11374-1467-48a8-a1c4-583a4e272ac6"
      },
      "source": [
        "# Un ciclo es un código que se repite varias veces hasta que se deja \n",
        "# de cumplir una condicion\n",
        "\n",
        "# Iteracion: es el numero de veces que se ha repetido el ciclo\n",
        "\n",
        "# Ciclo while\n",
        "\n",
        "# Solicitar un numero par al usuario\n",
        "\n",
        "Numero = int( input(\"Ingresa un numero par \") )\n",
        "\n",
        "while Numero % 2 != 0:\n",
        "  Numero = int( input(\"DIJE QUE INGRESARAS UN NUMERO PAR!!! \") )\n",
        "\n",
        "print(\"El numero par es:\", Numero)\n"
      ],
      "execution_count": null,
      "outputs": [
        {
          "output_type": "stream",
          "text": [
            "Ingresa un numero par 1\n",
            "DIJE QUE INGRESARAS UN NUMERO PAR!!! 3\n",
            "DIJE QUE INGRESARAS UN NUMERO PAR!!! 5\n",
            "DIJE QUE INGRESARAS UN NUMERO PAR!!! 8\n",
            "El numero par es: 8\n"
          ],
          "name": "stdout"
        }
      ]
    },
    {
      "cell_type": "code",
      "metadata": {
        "colab": {
          "base_uri": "https://localhost:8080/"
        },
        "id": "hhKpDpzP4uaO",
        "outputId": "05344149-03b0-43a6-be49-84b17481bd7a"
      },
      "source": [
        "# Imprimiendo numeros del 1 al 5\n",
        "\n",
        "i = 1\n",
        "while i <= 5:\n",
        "  print(i)\n",
        "  i += 1"
      ],
      "execution_count": null,
      "outputs": [
        {
          "output_type": "stream",
          "text": [
            "1\n",
            "2\n",
            "3\n",
            "4\n",
            "5\n"
          ],
          "name": "stdout"
        }
      ]
    },
    {
      "cell_type": "code",
      "metadata": {
        "colab": {
          "base_uri": "https://localhost:8080/"
        },
        "id": "H_Ykr71X5RDF",
        "outputId": "7b43cdc4-14d6-4102-fff8-aefa74cddbc0"
      },
      "source": [
        "# Ciclo for \n",
        "\n",
        "# ciclo donde el numero de iteraciones normalmente es conocido\n",
        "# la variable i toma un valor de la lista\n",
        "# en cada iteracion\n",
        "\n",
        "# Imprimir numeros del 1 al 5\n",
        "\n",
        "for i in [1,2,3,4,5]:\n",
        "  print(i)"
      ],
      "execution_count": null,
      "outputs": [
        {
          "output_type": "stream",
          "text": [
            "1\n",
            "2\n",
            "3\n",
            "4\n",
            "5\n"
          ],
          "name": "stdout"
        }
      ]
    },
    {
      "cell_type": "code",
      "metadata": {
        "colab": {
          "base_uri": "https://localhost:8080/"
        },
        "id": "HudpoLKB5-yN",
        "outputId": "1ef76cb9-4600-4c3e-9475-42315bf8b1ac"
      },
      "source": [
        "# Funcion range crea un arreglo de numeros\n",
        "# range(Inicio, Termina, incremento)\n",
        "# range(num) el arreglo va desde cero hasta num - 1 de uno en uno\n",
        "\n",
        "# Creando una lista con numeros del 0 al 10\n",
        "y = range(11)\n",
        "print( list(y) )\n",
        "\n",
        "# Sumatoria de los elementos en x\n",
        "x = [1,2,3,5,5]\n",
        "Suma = 0\n",
        "\n",
        "for i in x:\n",
        "  Suma += i\n",
        "\n",
        "print(Suma)\n",
        "\n",
        "# Sumando de una forma diferente\n",
        "\n",
        "Suma2 = 0\n",
        "for i in range(5):\n",
        "  Suma2 +=  x[i]\n",
        "\n",
        "print(Suma2)"
      ],
      "execution_count": null,
      "outputs": [
        {
          "output_type": "stream",
          "text": [
            "[0, 1, 2, 3, 4, 5, 6, 7, 8, 9, 10]\n",
            "16\n",
            "16\n"
          ],
          "name": "stdout"
        }
      ]
    },
    {
      "cell_type": "code",
      "metadata": {
        "colab": {
          "base_uri": "https://localhost:8080/"
        },
        "id": "kOvwJgPY85e5",
        "outputId": "2df06645-651a-4b01-d333-b70166ed7cb5"
      },
      "source": [
        "x = [5,4,3,2,1]\n",
        "\n",
        "tamaño = len(x)\n",
        "\n",
        "print(\"El tamaño de la lista es: \", tamaño)\n",
        "\n",
        "for i in range(tamaño):\n",
        "  if x[i] == 4:\n",
        "    print(\"El numero 4 esta en la posicion\",i)\n",
        "    break\n",
        "\n",
        "\n",
        "\n",
        "print(\"El numero de iteraciones fue: \", i + 1)"
      ],
      "execution_count": null,
      "outputs": [
        {
          "output_type": "stream",
          "text": [
            "El tamaño de la lista es:  5\n",
            "El numero 4 esta en la posicion 1\n",
            "El numero de iteraciones fue:  2\n"
          ],
          "name": "stdout"
        }
      ]
    },
    {
      "cell_type": "markdown",
      "metadata": {
        "id": "91G0CNZ2A_uh"
      },
      "source": [
        "# Tarea\n",
        "\n",
        "Multiplicar todos los elementos de una matriz ó lista de listas (de minimo 3x3) por un numero (puede ser el que sea menos 1 y 0) mediante ciclos y despues imprimir la nueva lista, pueden usar más de un ciclo o ciclos dentro de otros ciclos, pero mínimo deben de usar un ciclo"
      ]
    },
    {
      "cell_type": "code",
      "metadata": {
        "colab": {
          "base_uri": "https://localhost:8080/"
        },
        "id": "2zuM1rkgA_ih",
        "outputId": "cd30899c-d160-490c-c52f-896d553d0cd7"
      },
      "source": [
        "A = [ [1,2,3],[4,5,6],[7,8,9] ]\n",
        "print(A)\n",
        "\n",
        "print(3*A[0][0])"
      ],
      "execution_count": null,
      "outputs": [
        {
          "output_type": "stream",
          "text": [
            "[[1, 2, 3], [4, 5, 6], [7, 8, 9]]\n",
            "3\n"
          ],
          "name": "stdout"
        }
      ]
    }
  ]
}