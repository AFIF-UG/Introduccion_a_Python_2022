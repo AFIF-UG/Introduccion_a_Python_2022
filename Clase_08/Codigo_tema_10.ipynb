{
  "nbformat": 4,
  "nbformat_minor": 0,
  "metadata": {
    "colab": {
      "name": "Codigo_tema_10.ipynb",
      "provenance": [],
      "collapsed_sections": []
    },
    "kernelspec": {
      "name": "python3",
      "display_name": "Python 3"
    },
    "language_info": {
      "name": "python"
    }
  },
  "cells": [
    {
      "cell_type": "markdown",
      "source": [
        "# Código tema 10\n",
        "###### Si tienes problema al dar clic en el botón de -Open In Colab-, te recomendamos dar clic derecho en este y luego seleccionar -Abrir en una pestaña nueva-"
      ],
      "metadata": {
        "id": "SBL3OSWDzlh-"
      }
    },
    {
      "cell_type": "markdown",
      "source": [
        "[![Open In Colab](https://colab.research.google.com/assets/colab-badge.svg)](https://colab.research.google.com/drive/1Cvabw4eT44_73cFLLbr0bObdeJzRdUWm?usp=sharing)"
      ],
      "metadata": {
        "id": "JdSw2Frrzrvx"
      }
    },
    {
      "cell_type": "code",
      "execution_count": null,
      "metadata": {
        "id": "H6acYDmmzTs4"
      },
      "outputs": [],
      "source": [
        "# EJECUTE PRIMERO ESTA CELDA PARA QUE NO HAYA ERRORES EN LAS DEMÁS\n",
        "\n",
        "\n",
        "fichero = open(\"ejemplo.txt\", 'w')\n",
        "fichero.write(\"Contenido a escribir \")\n",
        "fichero.write(\"Hola\")\n",
        "fichero.close()\n",
        "\n",
        "\n",
        "# No debe imprimir nada en pantalla\n",
        "# Solo va a crear un archivo .txt "
      ]
    },
    {
      "cell_type": "code",
      "source": [
        "fichero = open('ejemplo.txt')  #Por defecto está en modo 'r' para solo lectura del archivo\n",
        "\n",
        "print(fichero.read())\n",
        "print(fichero.readline())\n",
        "\n",
        "\n",
        "fichero.close()\n",
        "\n",
        "\n",
        "#seguido de una coma en el open después del nombre del archivo\n",
        "\n",
        "#‘r’: Por defecto, para leer el fichero.\n",
        "#‘w’: Para escribir en el fichero.\n",
        "#‘x’: Para la creación, fallando si ya existe.\n",
        "#‘a’: Para añadir contenido a un fichero existente.\n",
        "#‘b’: Para abrir en modo binario."
      ],
      "metadata": {
        "colab": {
          "base_uri": "https://localhost:8080/"
        },
        "id": "WbMibr8k0EDy",
        "outputId": "69ae1a8b-af73-484d-c105-c0a3b1d8c068"
      },
      "execution_count": null,
      "outputs": [
        {
          "output_type": "stream",
          "name": "stdout",
          "text": [
            "Contenido a escribir Hola\n",
            "\n"
          ]
        }
      ]
    },
    {
      "cell_type": "code",
      "source": [
        "# Este código ingresa una lista dentro un archivo de texto\n",
        "\n",
        "# No importa si tiene el mismo nombre que el anterior archivo, puesto que lo destruye y crea uno nuevo\n",
        "\n",
        "lista = [\"Manzana\\n\", \"Pera\\n\", \"Plátano\\n\"]\n",
        "with open(\"ejemplo.txt\", 'w') as fichero:\n",
        "     fichero.writelines(lista)\n",
        "\n",
        "fichero.close()     # NUNCA olvides cerrar el archivo después de usarlo\n",
        "\n",
        "# El código no imprime nada en pantalla"
      ],
      "metadata": {
        "id": "gIyca87e0Ga8"
      },
      "execution_count": null,
      "outputs": []
    },
    {
      "cell_type": "code",
      "source": [
        "# Este código imprime en pantalla el anterior arreglo escrito (renglón por renglón)\n",
        "\n",
        "#La función \"strip ()\" retorna una copia de una cadena\n",
        "# con ciertos caracteres...\n",
        "\n",
        "with open('ejemplo.txt','r') as stop_words: \n",
        "    lineas = [linea.strip() for linea in stop_words]\n",
        "\n",
        "for linea in lineas:\n",
        "    print(linea)"
      ],
      "metadata": {
        "colab": {
          "base_uri": "https://localhost:8080/"
        },
        "id": "sl65ajo90JNb",
        "outputId": "d9af58b9-79f1-4064-ca34-26e48a95e25e"
      },
      "execution_count": null,
      "outputs": [
        {
          "output_type": "stream",
          "name": "stdout",
          "text": [
            "Manzana\n",
            "Pera\n",
            "Plátano\n"
          ]
        }
      ]
    }
  ]
}