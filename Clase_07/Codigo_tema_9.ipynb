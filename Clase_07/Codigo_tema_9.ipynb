{
  "nbformat": 4,
  "nbformat_minor": 0,
  "metadata": {
    "colab": {
      "name": "Codigo_tema_9.ipynb",
      "provenance": [],
      "collapsed_sections": []
    },
    "kernelspec": {
      "name": "python3",
      "display_name": "Python 3"
    }
  },
  "cells": [
    {
      "cell_type": "markdown",
      "metadata": {
        "id": "Z07QZ9JVzHFQ"
      },
      "source": [
        "# Código tema 9\n",
        "###### Si tienes problema al dar clic en el botón de -Open In Colab-, te recomendamos dar clic derecho en este y luego seleccionar -Abrir en una pestaña nueva-"
      ]
    },
    {
      "cell_type": "markdown",
      "metadata": {
        "id": "0nHgEOtK07e-"
      },
      "source": [
        "[![Open In Colab](https://colab.research.google.com/assets/colab-badge.svg)](https://colab.research.google.com/drive/1YRKQw0I8m32z7sFmUZr_hevhLNenbCc0?usp=sharing)"
      ]
    },
    {
      "cell_type": "code",
      "metadata": {
        "id": "Xr-SlV4N7Fu7"
      },
      "source": [
        "# Esta funcion imprime dos mensajes y realiza una operacion pero no regresa ni recibe algun valor\n",
        "# Es posible llamaar a la funcion con su nombre seguido de parentesis la cantidad de veces que deseemos\n",
        "def fun_1():\n",
        "  print(\"Hola mundo\")\n",
        "  print(\"Bienvenidos\")\n",
        "  a = 2\n",
        "  b = 3\n",
        "  c = a * b\n",
        "  print(\"a * b = \", c) "
      ],
      "execution_count": null,
      "outputs": []
    },
    {
      "cell_type": "code",
      "metadata": {
        "colab": {
          "base_uri": "https://localhost:8080/"
        },
        "id": "msBm2HjC8Eff",
        "outputId": "5aca1aed-4819-4341-bcf9-0bc23a6e12d6"
      },
      "source": [
        "fun_1()\n",
        "#fun_1()\n",
        "#fun_1()"
      ],
      "execution_count": null,
      "outputs": [
        {
          "output_type": "stream",
          "text": [
            "Hola mundo\n",
            "Bienvenidos\n",
            "a * b =  6\n"
          ],
          "name": "stdout"
        }
      ]
    },
    {
      "cell_type": "code",
      "metadata": {
        "id": "KO6evoGH8pxI"
      },
      "source": [
        "# Recibe dos variables (pero puede recibir mas) y con ellas realiza una operacion que se imprime pero aun no nos regresa algun valor\n",
        "def fun_2(a,b):\n",
        "  print(\"Hola mundo\")\n",
        "  #print(\"Bienvenidos\")\n",
        "  #a = 2\n",
        "  #b = 3\n",
        "  c = a * b\n",
        "  print(\"a * b = \", c) "
      ],
      "execution_count": null,
      "outputs": []
    },
    {
      "cell_type": "code",
      "metadata": {
        "colab": {
          "base_uri": "https://localhost:8080/"
        },
        "id": "IAL-ZokA8uiZ",
        "outputId": "6cd998a7-328b-4a2b-c4a9-29e3fb1d10fb"
      },
      "source": [
        "f = 6\n",
        "e = 2\n",
        "\n",
        "#fun_2(f,e)\n",
        "#fun_2(f,1)\n",
        "#fun_2(f,3)\n",
        "x = fun_2(f,e)\n",
        "print(x)\n",
        "print(type(x))"
      ],
      "execution_count": null,
      "outputs": [
        {
          "output_type": "stream",
          "text": [
            "Hola mundo\n",
            "a * b =  12\n",
            "None\n",
            "<class 'NoneType'>\n"
          ],
          "name": "stdout"
        }
      ]
    },
    {
      "cell_type": "code",
      "metadata": {
        "id": "8HWn2-CY-Tdb"
      },
      "source": [
        "# Esta funcion nos regresa la multiplicacion de a * b\n",
        "def fun_3(a,b):\n",
        "  print(\"Hola mundo\")\n",
        "  c = a * b\n",
        "  #print(\"a * b = \", a * b)\n",
        "  print(\"a * b = \", a * b)\n",
        "  return c "
      ],
      "execution_count": null,
      "outputs": []
    },
    {
      "cell_type": "code",
      "metadata": {
        "colab": {
          "base_uri": "https://localhost:8080/"
        },
        "id": "20Hbq_wO-cXI",
        "outputId": "01a597dd-a2b7-4363-e44c-b943e2765351"
      },
      "source": [
        "mult = fun_3(f,e)\n",
        "print(type(mult))"
      ],
      "execution_count": null,
      "outputs": [
        {
          "output_type": "stream",
          "text": [
            "Hola mundo\n",
            "a * b =  12\n",
            "<class 'int'>\n"
          ],
          "name": "stdout"
        }
      ]
    },
    {
      "cell_type": "code",
      "metadata": {
        "id": "sJYDEb7z_J28"
      },
      "source": [
        "# Esta funcion nos regresa la multiplicacion de a * b de forma int y de tipo string, ademas regresa una lista\n",
        "# Por lo que es posible que una funcion regrese diferentes tipos de variables \n",
        "# Tambien aqui notamos que una funcion puede tener como entradas variables de diferente tipo en este caso dos de entero y uno de string \n",
        "def fun_4(a,b,d):\n",
        "  print(\"Hola mundo\")\n",
        "  c = a * b\n",
        "  print(\"a * b = \", a * b)\n",
        "  f = \"Hola \" + d\n",
        "  print(f)\n",
        "  c_s = str(c)\n",
        "  lista = [1.4,2.7,3.5]\n",
        "  return c, c_s, lista"
      ],
      "execution_count": null,
      "outputs": []
    },
    {
      "cell_type": "code",
      "metadata": {
        "colab": {
          "base_uri": "https://localhost:8080/"
        },
        "id": "ULCkeAqh_cCQ",
        "outputId": "fd213208-e276-44e7-dd10-e1ebb6dbc65a"
      },
      "source": [
        "Valores = fun_4(f,e,\"Uriel\")\n",
        "#print(type(Valores))\n",
        "#print(type(Valores[0]))\n",
        "#print(type(Valores[1]))\n",
        "#print(type(Valores[2]))\n",
        "Entero, String, Lista = fun_4(f,e,\"Uriel\")\n",
        "if Entero == Valores[0]:\n",
        "  print(\"Son iguales\")\n"
      ],
      "execution_count": null,
      "outputs": [
        {
          "output_type": "stream",
          "text": [
            "Hola mundo\n",
            "a * b =  12\n",
            "Hola Uriel\n",
            "Hola mundo\n",
            "a * b =  12\n",
            "Hola Uriel\n",
            "Son iguales\n"
          ],
          "name": "stdout"
        }
      ]
    },
    {
      "cell_type": "code",
      "metadata": {
        "id": "C9IhjDWwBZSm"
      },
      "source": [
        "# Podemos asignar valores por defecto a los parametros de la funcion\n",
        "def fun_5(a = 2,b = 3,d = \"Uriel\"):\n",
        "  print(\"Hola mundo\")\n",
        "  c = a * b\n",
        "  print(\"a * b = \", a * b)\n",
        "  f = \"Hola \" + d\n",
        "  print(f)\n",
        "  c_s = str(c)\n",
        "  lista = [1.4,2.7,3.5]\n",
        "  return c, c_s, lista"
      ],
      "execution_count": null,
      "outputs": []
    },
    {
      "cell_type": "code",
      "metadata": {
        "colab": {
          "base_uri": "https://localhost:8080/"
        },
        "id": "iez_AjuXBaeK",
        "outputId": "44ea03be-59bf-4c97-aad0-cd9ae2085e62"
      },
      "source": [
        "Prueba = fun_5(e,f,\"Juanito\")"
      ],
      "execution_count": null,
      "outputs": [
        {
          "output_type": "stream",
          "text": [
            "Hola mundo\n",
            "a * b =  12\n",
            "Hola Juanito\n"
          ],
          "name": "stdout"
        }
      ]
    },
    {
      "cell_type": "code",
      "metadata": {
        "id": "ONiJGqnTCCZR"
      },
      "source": [
        "# Ahora la funcion tambien imprime los valores de a y b\n",
        "def fun_6(a = 2,b = 3,d = \"Uriel\"):\n",
        "  print(\"Hola mundo\")\n",
        "  c = a * b\n",
        "  print(str(a)+ \" * \" + str(b) + \" =\", a * b)\n",
        "  f = \"Hola \" + d\n",
        "  print(f)\n",
        "  c_s = str(c)\n",
        "  lista = [1.4,2.7,3.5]\n",
        "  return c, c_s, lista"
      ],
      "execution_count": null,
      "outputs": []
    },
    {
      "cell_type": "code",
      "metadata": {
        "colab": {
          "base_uri": "https://localhost:8080/"
        },
        "id": "IC8dLHlZCTWR",
        "outputId": "64d00134-c7f5-40b8-d603-917119382039"
      },
      "source": [
        "Prueba_2 = fun_6(10,2,\"Juanito\")"
      ],
      "execution_count": null,
      "outputs": [
        {
          "output_type": "stream",
          "text": [
            "Hola mundo\n",
            "10 * 2 = 20\n",
            "Hola Juanito\n"
          ],
          "name": "stdout"
        }
      ]
    }
  ]
}