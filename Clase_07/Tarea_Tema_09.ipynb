{
  "nbformat": 4,
  "nbformat_minor": 0,
  "metadata": {
    "colab": {
      "name": "Tarea_Tema_09.ipynb",
      "provenance": []
    },
    "kernelspec": {
      "name": "python3",
      "display_name": "Python 3"
    },
    "language_info": {
      "name": "python"
    }
  },
  "cells": [
    {
      "cell_type": "markdown",
      "source": [
        "[![Open In Colab](https://colab.research.google.com/assets/colab-badge.svg)](https://colab.research.google.com/drive/15hXnqDTfOANeMx9I-PHmRJ5CgRaZodgR?usp=sharing)"
      ],
      "metadata": {
        "id": "bm1K2MVce8c3"
      }
    },
    {
      "cell_type": "markdown",
      "source": [
        "# Tarea\n",
        "En el video no se menciona la tarea, pero a continuación se proporciona una descripción de lo que hay que realizar: Cree una función que se llamara “crear_vector” esta recibirá 4 parámetros, “inicio”, “fin”, “incremento” y “incluir_inicio”. El parámetro incluir_inicio estará por defecto como True, los demás no serán inicializados. La función tiene que crear un vector que inicie en el parámetro “inicio”, termine en “fin” y tenga incrementos de “incremento”. Si “incluir_inicio” es True entonces comenzara en “inicio” si es False va a comenzar en “inicio” + “incremento”. La función tiene que regresar 2 variables la primera es el vector creado y la segunda, la longitud del vector. A continuación, se muestran dos ejemplos de que tendría que dar en base a ciertos parámetros.\n",
        "\n",
        "Primer ejemplo:\n",
        "\n",
        "vec, num = crear_vector(1, 2, 0.2)\n",
        "\n",
        "print(vec) --> [1, 1.2, 1.4, 1.6, 1.8, 2]\n",
        "\n",
        "print(num) --> 6\n",
        "\n",
        "Segundo ejemplo:\n",
        "\n",
        "vec, num = crear_vector(-3, 0, 0.5, False)\n",
        "\n",
        "print(vec) --> [-2.5, -2, -1.5, -1, -0.5, 0]\n",
        "\n",
        "print(num) --> 6\n",
        "\n",
        "Sugerencia: Primero trate de hacer algunos ejercicios en papel y con ello encuentre una formula para saber cuantos datos tiene que tener el vector, para los dos casos.\n",
        "\n",
        "Ya hay métodos que realizan esto de forma automática, pero consideramos este un buen ejercicio para que pongan en práctica lo aprendido y desarrollen una buena lógica de programación"
      ],
      "metadata": {
        "id": "5zUNTNwbcrWC"
      }
    },
    {
      "cell_type": "code",
      "execution_count": null,
      "metadata": {
        "id": "U5ofxskhcl-b"
      },
      "outputs": [],
      "source": [
        "# Aqui puedes comenzar a escribir tu función =D"
      ]
    },
    {
      "cell_type": "markdown",
      "source": [
        ""
      ],
      "metadata": {
        "id": "aqNUdzKFcox7"
      }
    }
  ]
}