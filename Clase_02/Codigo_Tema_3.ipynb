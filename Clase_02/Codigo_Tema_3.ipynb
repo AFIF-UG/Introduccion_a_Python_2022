{
  "nbformat": 4,
  "nbformat_minor": 0,
  "metadata": {
    "colab": {
      "name": "Codigo_Tema_Variables_3.ipynb",
      "provenance": []
    },
    "kernelspec": {
      "name": "python3",
      "display_name": "Python 3"
    }
  },
  "cells": [
    {
      "cell_type": "markdown",
      "metadata": {
        "id": "5fVioqOAYHc5"
      },
      "source": [
        "#**Código Tema 3**\n",
        "\n",
        "Si tienes problemas al dar click en el botón de -Open in Colab-, te recomendamos dar click derecho y luego seleccionar -Abrir en una pestaña nueva-\n",
        "\n",
        "[![Open In Colab](https://colab.research.google.com/assets/colab-badge.svg)](https://colab.research.google.com/drive/1OQOQyLg2r4f43C_rW4tCPZWmWlRNQYIV#scrollTo=5fVioqOAYHc5)\n",
        "\n",
        "\n",
        "\n",
        "---\n",
        "\n",
        "\n",
        "\n"
      ]
    },
    {
      "cell_type": "markdown",
      "metadata": {
        "id": "nZI-TP3nFX9_"
      },
      "source": [
        "# **Variables**\n",
        "\n",
        "Las variables son espacios de memoria RAM donde se almacenan datos.\n",
        "\n",
        "Son escenciales para la programación y pueden ser números, texto o un conjunto de ambos.\n",
        "\n"
      ]
    },
    {
      "cell_type": "code",
      "metadata": {
        "colab": {
          "base_uri": "https://localhost:8080/"
        },
        "id": "ESCGFurxDI8W",
        "outputId": "04f333af-3192-41ba-c8be-0e13f21fc8d5"
      },
      "source": [
        "# TIPOS DE VARIABLES \n",
        "\n",
        "entero = 10              # Números positivos o negativos que no son decimales\n",
        "flotante = 8.45          # Números con decimales\n",
        "string = 'Texto'         # Cadena de caracteres (Se pueden definir con \" \" o  con ' ')\n",
        "booleano = True          # Valor binario True o False (No se pueden definir con puras mayúsculas o minúsculas)\n",
        "\n",
        "print(entero)\n",
        "print(flotante)          # Aquí se imprimen las variables en pantalla    \n",
        "print(string)\n",
        "print(booleano)\n",
        "\n",
        "print(\" \")               # Espacio en blanco \n",
        "\n",
        "print(type(entero))\n",
        "print(type(flotante))    # Aquí se imprime el tipo de dato que son\n",
        "print(type(string))\n",
        "print(type(booleano))"
      ],
      "execution_count": null,
      "outputs": [
        {
          "output_type": "stream",
          "text": [
            "10\n",
            "8.45\n",
            "Texto\n",
            "True\n",
            " \n",
            "<class 'int'>\n",
            "<class 'float'>\n",
            "<class 'str'>\n",
            "<class 'bool'>\n"
          ],
          "name": "stdout"
        }
      ]
    },
    {
      "cell_type": "markdown",
      "metadata": {
        "id": "AuPEIO1HIWEd"
      },
      "source": [
        "# **Qué (No) está permitido al definir variables**"
      ]
    },
    {
      "cell_type": "code",
      "metadata": {
        "id": "SwFUOwnSInAd"
      },
      "source": [
        "númeröñ = 17          #Se pueden agregar acentos, diérecis, virgulillas y usar la \"ñ\"\n",
        "日本語 = \" Hola \"      # Se pueden usar letras de otros idiomas\n",
        "π = 3.1416            # Se pueden usar letras griegas\n",
        "\n",
        "\n",
        "#No son válidas las siguientes combinaciones  \n",
        "\n",
        "# 1algo            # El número al inicio no es válido\n",
        "# al go\n",
        "# al-go\n",
        "\n",
        "#Tampoco son válidos los signos (¬!|#$%&/()[]{}^`~¿'?\\¡<>,.;:)\n",
        "#Tampoco son válidas palabras reservadas como class,def,True,dict,list,set,int,etc... \"Cualquiera que se ponga de color al terminar de escribir XD\" \n",
        "\n",
        "\n",
        "#Los siguientes ejemplos sí son válidos\n",
        "\n",
        "algo1 = 0          # El número entre el nombre o al final de la variable sí es válido\n",
        "al_go = 9\n",
        "\n",
        "\n",
        "#Compila este código y no debe aparecer nada, tampoco errores"
      ],
      "execution_count": null,
      "outputs": []
    },
    {
      "cell_type": "markdown",
      "metadata": {
        "id": "1DcFCZv8KfMB"
      },
      "source": [
        "# **Listas**\n",
        "\n",
        "Las listas en Python son un tipo de dato que permite almacenar datos de cualquier tipo.\n",
        "\n",
        "Se definen con corchetes \"[ ]\"\n",
        "\n",
        "Son **ORDENADAS**, **MUTABLES**, **DINÁMICAS** y se pueden **ANIDAR**."
      ]
    },
    {
      "cell_type": "code",
      "metadata": {
        "colab": {
          "base_uri": "https://localhost:8080/"
        },
        "id": "8VclXAusK2ZT",
        "outputId": "a27713e3-c9d2-42f2-ae6c-888e2b4afe5e"
      },
      "source": [
        "L = list\n",
        "lista_vacía = []\n",
        "\n",
        "lista = [1,2,\"Hola\",\"Dos\",'25']\n",
        "\n",
        "lista_de_listas = [[1,1],[2,2],[3,3]]      #Propiedad de anidar\n",
        "\n",
        "print(lista_vacía)\n",
        "print(lista)\n",
        "print(lista_de_listas)\n",
        "\n",
        "\n",
        "print(L)                                #Tipo de variable por sí solo\n",
        "print(type(lista_vacía))\n",
        "print(type(lista))\n",
        "print(type(lista_de_listas))\n"
      ],
      "execution_count": null,
      "outputs": [
        {
          "output_type": "stream",
          "text": [
            "[]\n",
            "[1, 2, 'Hola', 'Dos', '25']\n",
            "[[1, 1], [2, 2], [3, 3]]\n",
            "<class 'list'>\n",
            "<class 'list'>\n",
            "<class 'list'>\n",
            "<class 'list'>\n"
          ],
          "name": "stdout"
        }
      ]
    },
    {
      "cell_type": "markdown",
      "metadata": {
        "id": "AFfW8LuKOArg"
      },
      "source": [
        "#**Set**\n",
        "\n",
        "Estructuras de datos que almacenan variables.\n",
        "\n",
        "Se definen con llaves \"{ }\" o con el constructor \"set()\"\n",
        "\n",
        "Son de elementos **ÚNICOS**, **DESORDENADOS** e **INMUTABLES**."
      ]
    },
    {
      "cell_type": "code",
      "metadata": {
        "colab": {
          "base_uri": "https://localhost:8080/"
        },
        "id": "GSvQELPqPAVT",
        "outputId": "ed022d3d-36c2-4f85-a16d-bb834f034b3e"
      },
      "source": [
        "s = set([1,2,4,6,3,\"1\",1])         #No puede almacenar booleanos\n",
        "\n",
        "S = set \n",
        "\n",
        "SET_VACIO = {}                      # NO PUEDEN HABER SETS VACIOS, SERÁ INTERPRETADO COMO DICCIONARIO\n",
        "\n",
        "SET = {\"Hola\",\"Hola\",\"Hola\",12,12,12,12,21}\n",
        "\n",
        "print(s)\n",
        "print(SET_VACIO)                    # DICCIONARIO\n",
        "print(SET)\n",
        "\n",
        "print(type(s))\n",
        "print(S)                             # Tipo de dato por sí solo\n",
        "print(type(SET_VACIO))\n",
        "print(type(SET))"
      ],
      "execution_count": null,
      "outputs": [
        {
          "output_type": "stream",
          "text": [
            "{1, 2, 3, 4, 6, '1'}\n",
            "{}\n",
            "{21, 'Hola', 12}\n",
            "<class 'set'>\n",
            "<class 'set'>\n",
            "<class 'dict'>\n",
            "<class 'set'>\n"
          ],
          "name": "stdout"
        }
      ]
    },
    {
      "cell_type": "markdown",
      "metadata": {
        "id": "VFANXmM3RKUk"
      },
      "source": [
        "#**Tupla**\n",
        "\n",
        "Estructuras de datos que almacenan variables.\n",
        "\n",
        "Se definen con paréntesis \"( )\" o sin ellas.\n",
        "\n",
        "Son **ORDENADAS**, **INMUTABLES** y se pueden **ANIDAR**."
      ]
    },
    {
      "cell_type": "code",
      "metadata": {
        "colab": {
          "base_uri": "https://localhost:8080/"
        },
        "id": "43EEPkrpRv9R",
        "outputId": "bf2078dd-90bf-4693-e8c1-3fb71c3a2e4e"
      },
      "source": [
        "Tupla = tuple\n",
        "tUpla = ()\n",
        "tuPla = (1,True,8,\"90\",9.0)\n",
        "tupLa = 0,1,(0,False),(1,True)     # Tupla anidada y sin paréntesis para definirse\n",
        "\n",
        "print(tUpla)\n",
        "print(tuPla)\n",
        "print(tupLa)\n",
        "\n",
        "\n",
        "print(Tupla)                # Tipo de dato por sí solo\n",
        "print(type(tUpla))\n",
        "print(type(tuPla))\n",
        "print(type(tupLa))"
      ],
      "execution_count": null,
      "outputs": [
        {
          "output_type": "stream",
          "text": [
            "()\n",
            "(1, True, 8, '90', 9.0)\n",
            "(0, 1, (0, False), (1, True))\n",
            "<class 'tuple'>\n",
            "<class 'tuple'>\n",
            "<class 'tuple'>\n",
            "<class 'tuple'>\n"
          ],
          "name": "stdout"
        }
      ]
    },
    {
      "cell_type": "markdown",
      "metadata": {
        "id": "duHU68mxTBxL"
      },
      "source": [
        "#**Diccionarios**\n",
        "\n",
        "Los diccionarios en Python son una estructura de datos que permite almacenar su contenido en forma de llave y valor.\n",
        "\n",
        "Se definen con llaves \"{ }\" o con el constructor \"dict()\"\n",
        "\n",
        "Son **INDEXADOS**, **MUTABLES** y **DINÁMICOS**"
      ]
    },
    {
      "cell_type": "code",
      "metadata": {
        "colab": {
          "base_uri": "https://localhost:8080/"
        },
        "id": "Ces_FtsST1UB",
        "outputId": "d5ac33a9-6ff1-413b-a0dc-2705e38dee58"
      },
      "source": [
        "# Diccionario forma {Key : Value} A cada llave (key) hay un valor (value).\n",
        "\n",
        "Dict = dict\n",
        "\n",
        "Diccionario_Vacio = {}\n",
        "\n",
        "Diccionario = dict([(1,2),(\"uno\",'dos')])   # ¡OJO! Aquí no se usan los dos puntos \":\" sino comas \",\"\n",
        "\n",
        "DICCIONARIO = {\"Nombre\" : \"Miguel\",\n",
        "               \"Edad\"   :  21,   \n",
        "               \"Soltero\": True }\n",
        "\n",
        "print(Diccionario_Vacio)\n",
        "print(Diccionario)\n",
        "print(DICCIONARIO)\n",
        "\n",
        "\n",
        "print(Dict)\n",
        "print(type(Diccionario_Vacio))\n",
        "print(type(Diccionario))\n",
        "print(type(DICCIONARIO))"
      ],
      "execution_count": null,
      "outputs": [
        {
          "output_type": "stream",
          "text": [
            "{}\n",
            "{1: 2, 'uno': 'dos'}\n",
            "{'Nombre': 'Miguel', 'Edad': 21, 'Soltero': True}\n",
            "<class 'dict'>\n",
            "<class 'dict'>\n",
            "<class 'dict'>\n",
            "<class 'dict'>\n"
          ],
          "name": "stdout"
        }
      ]
    },
    {
      "cell_type": "markdown",
      "metadata": {
        "id": "4I-OfMicV_JQ"
      },
      "source": [
        "#**Más información**\n",
        "\n",
        "Recuerda que todas las variables en python son **CLASES**, por tanto, tienen métodos y aquí puedes encontrar más acerca de variables y estructuras de datos en cada apartado dando click en las opciones que aparecen en el link. \n",
        "\n",
        "https://ellibrodepython.com/tipos-python"
      ]
    }
  ]
}